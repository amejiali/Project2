{
 "cells": [
  {
   "cell_type": "code",
   "execution_count": 1,
   "metadata": {},
   "outputs": [],
   "source": [
    "#Imports needed\n",
    "import quandl\n",
    "import pandas as pd\n",
    "import numpy as np\n",
    "import os\n",
    "from pathlib import Path\n",
    "import datetime"
   ]
  },
  {
   "cell_type": "code",
   "execution_count": 2,
   "metadata": {},
   "outputs": [
    {
     "data": {
      "text/html": [
       "<div>\n",
       "<style scoped>\n",
       "    .dataframe tbody tr th:only-of-type {\n",
       "        vertical-align: middle;\n",
       "    }\n",
       "\n",
       "    .dataframe tbody tr th {\n",
       "        vertical-align: top;\n",
       "    }\n",
       "\n",
       "    .dataframe thead th {\n",
       "        text-align: right;\n",
       "    }\n",
       "</style>\n",
       "<table border=\"1\" class=\"dataframe\">\n",
       "  <thead>\n",
       "    <tr style=\"text-align: right;\">\n",
       "      <th></th>\n",
       "      <th>Date</th>\n",
       "      <th>Bullish</th>\n",
       "      <th>Neutral</th>\n",
       "      <th>Bearish</th>\n",
       "    </tr>\n",
       "  </thead>\n",
       "  <tbody>\n",
       "    <tr>\n",
       "      <th>0</th>\n",
       "      <td>2007-01-04</td>\n",
       "      <td>0.4914</td>\n",
       "      <td>0.2155</td>\n",
       "      <td>0.2931</td>\n",
       "    </tr>\n",
       "    <tr>\n",
       "      <th>1</th>\n",
       "      <td>2007-01-11</td>\n",
       "      <td>0.4444</td>\n",
       "      <td>0.2130</td>\n",
       "      <td>0.3426</td>\n",
       "    </tr>\n",
       "    <tr>\n",
       "      <th>2</th>\n",
       "      <td>2007-01-18</td>\n",
       "      <td>0.5778</td>\n",
       "      <td>0.1515</td>\n",
       "      <td>0.2727</td>\n",
       "    </tr>\n",
       "    <tr>\n",
       "      <th>3</th>\n",
       "      <td>2007-01-25</td>\n",
       "      <td>0.3951</td>\n",
       "      <td>0.2716</td>\n",
       "      <td>0.3333</td>\n",
       "    </tr>\n",
       "    <tr>\n",
       "      <th>4</th>\n",
       "      <td>2007-02-01</td>\n",
       "      <td>0.4632</td>\n",
       "      <td>0.2316</td>\n",
       "      <td>0.3053</td>\n",
       "    </tr>\n",
       "  </tbody>\n",
       "</table>\n",
       "</div>"
      ],
      "text/plain": [
       "        Date  Bullish  Neutral  Bearish\n",
       "0 2007-01-04   0.4914   0.2155   0.2931\n",
       "1 2007-01-11   0.4444   0.2130   0.3426\n",
       "2 2007-01-18   0.5778   0.1515   0.2727\n",
       "3 2007-01-25   0.3951   0.2716   0.3333\n",
       "4 2007-02-01   0.4632   0.2316   0.3053"
      ]
     },
     "execution_count": 2,
     "metadata": {},
     "output_type": "execute_result"
    }
   ],
   "source": [
    "# Setting the quandl API key variable within the quandl class\n",
    "quandl.ApiConfig.api_key = os.getenv(\"QUANDL_API_KEY\")\n",
    "\n",
    "#getting the Sentiment Data from quandl\n",
    "sentiment_data = pd.DataFrame(quandl.get([\"AAII/AAII_SENTIMENT.1\", \"AAII/AAII_SENTIMENT.2\", \"AAII/AAII_SENTIMENT.3\"], start_date = \"2007-01-01\", end_date = \"2019-12-31\"))#, start_date = \"1987-07-24\", end_date = \"2020-01-20\")#['Date', 'Bullish', 'Neutral', 'Bearish']\n",
    "sentiment_data.columns = ['Bullish', 'Neutral', 'Bearish']\n",
    "sentiment_data.reset_index(inplace = True)\n",
    "sentiment_data.head()"
   ]
  },
  {
   "cell_type": "code",
   "execution_count": 3,
   "metadata": {},
   "outputs": [
    {
     "data": {
      "text/plain": [
       "Date       datetime64[ns]\n",
       "Bullish           float64\n",
       "Neutral           float64\n",
       "Bearish           float64\n",
       "dtype: object"
      ]
     },
     "execution_count": 3,
     "metadata": {},
     "output_type": "execute_result"
    }
   ],
   "source": [
    "sentiment_data['Bullish'] = sentiment_data['Bullish'].astype(float)\n",
    "sentiment_data['Neutral'] = sentiment_data['Neutral'].astype(float)\n",
    "sentiment_data['Bearish'] = sentiment_data['Bearish'].astype(float)\n",
    "sentiment_data.dtypes"
   ]
  },
  {
   "cell_type": "code",
   "execution_count": 4,
   "metadata": {},
   "outputs": [],
   "source": [
    "sentiment_data.to_csv(\"../Resources/Sentiment_data.csv\", encoding='utf-8', index = False)"
   ]
  },
  {
   "cell_type": "code",
   "execution_count": null,
   "metadata": {},
   "outputs": [],
   "source": []
  }
 ],
 "metadata": {
  "kernelspec": {
   "display_name": "Python 3",
   "language": "python",
   "name": "python3"
  },
  "language_info": {
   "codemirror_mode": {
    "name": "ipython",
    "version": 3
   },
   "file_extension": ".py",
   "mimetype": "text/x-python",
   "name": "python",
   "nbconvert_exporter": "python",
   "pygments_lexer": "ipython3",
   "version": "3.7.6"
  }
 },
 "nbformat": 4,
 "nbformat_minor": 4
}
