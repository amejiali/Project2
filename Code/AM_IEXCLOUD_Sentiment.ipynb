{
 "cells": [
  {
   "cell_type": "code",
   "execution_count": 23,
   "metadata": {},
   "outputs": [],
   "source": [
    "import numpy as np\n",
    "import pandas as pd\n",
    "from datetime import datetime, timedelta\n",
    "import matplotlib.pyplot as plt\n",
    "%matplotlib inline\n",
    "\n",
    "from iexfinance.stocks import get_historical_data\n",
    "import iexfinance as iex\n",
    "import os\n",
    "from pathlib import Path"
   ]
  },
  {
   "cell_type": "code",
   "execution_count": 24,
   "metadata": {},
   "outputs": [],
   "source": [
    "import requests\n",
    "import json\n",
    "\n",
    "IEXCLOUD_TOKEN = os.getenv('IEX_PROJECT_TOKEN')"
   ]
  },
  {
   "cell_type": "code",
   "execution_count": 25,
   "metadata": {},
   "outputs": [
    {
     "name": "stdout",
     "output_type": "stream",
     "text": [
      "2020-03-27 00:00:00 {'sentiment': -0.03942877295118674, 'totalScores': 17864, 'positive': 0.72, 'negative': 0.28}\n",
      "2020-03-28 00:00:00 {'sentiment': -0.04176292490118577, 'totalScores': 2530, 'positive': 0.77, 'negative': 0.23}\n"
     ]
    }
   ],
   "source": [
    "#Whole SPY Sentiment (from 2017-05-09 to 2020-01-31)\n",
    "\n",
    "start_date = pd.to_datetime('2019-01-01')\n",
    "end_date = pd.to_datetime('2020-03-28')\n",
    "\n",
    "days_SPY = (end_date - start_date).days\n",
    "SPY_dict = {}\n",
    "symbol = 'SPY'\n",
    "for i in range(days_SPY+1):\n",
    "    sentiment_date = start_date + pd.DateOffset(days=i)\n",
    "    sentiment_date_int = int(sentiment_date.strftime('%Y%m%d'))\n",
    "    sentiment_daily = requests.get(f'https://cloud.iexapis.com/stable/stock/{symbol}/sentiment/daily/{sentiment_date_int}?token={IEXCLOUD_TOKEN}').json()\n",
    "    SPY_dict[str(sentiment_date)] = sentiment_daily\n",
    "    print(sentiment_date,sentiment_daily)\n",
    "    "
   ]
  },
  {
   "cell_type": "code",
   "execution_count": 26,
   "metadata": {},
   "outputs": [
    {
     "data": {
      "text/html": [
       "<div>\n",
       "<style scoped>\n",
       "    .dataframe tbody tr th:only-of-type {\n",
       "        vertical-align: middle;\n",
       "    }\n",
       "\n",
       "    .dataframe tbody tr th {\n",
       "        vertical-align: top;\n",
       "    }\n",
       "\n",
       "    .dataframe thead th {\n",
       "        text-align: right;\n",
       "    }\n",
       "</style>\n",
       "<table border=\"1\" class=\"dataframe\">\n",
       "  <thead>\n",
       "    <tr style=\"text-align: right;\">\n",
       "      <th></th>\n",
       "      <th>sentiment</th>\n",
       "      <th>totalScores</th>\n",
       "      <th>positive</th>\n",
       "      <th>negative</th>\n",
       "    </tr>\n",
       "  </thead>\n",
       "  <tbody>\n",
       "    <tr>\n",
       "      <th>2020-03-27 00:00:00</th>\n",
       "      <td>-0.039429</td>\n",
       "      <td>17864</td>\n",
       "      <td>0.72</td>\n",
       "      <td>0.28</td>\n",
       "    </tr>\n",
       "    <tr>\n",
       "      <th>2020-03-28 00:00:00</th>\n",
       "      <td>-0.041763</td>\n",
       "      <td>2530</td>\n",
       "      <td>0.77</td>\n",
       "      <td>0.23</td>\n",
       "    </tr>\n",
       "  </tbody>\n",
       "</table>\n",
       "</div>"
      ],
      "text/plain": [
       "                     sentiment  totalScores  positive  negative\n",
       "2020-03-27 00:00:00  -0.039429        17864      0.72      0.28\n",
       "2020-03-28 00:00:00  -0.041763         2530      0.77      0.23"
      ]
     },
     "execution_count": 26,
     "metadata": {},
     "output_type": "execute_result"
    }
   ],
   "source": [
    "aux_df = pd.DataFrame.from_dict(SPY_dict, orient='index')\n",
    "aux_df.head()"
   ]
  },
  {
   "cell_type": "code",
   "execution_count": 19,
   "metadata": {},
   "outputs": [],
   "source": [
    "aux_df.to_csv(\"../Resources/SPY_iexcloud_sentiment_20170620_20200131.csv\")"
   ]
  },
  {
   "cell_type": "code",
   "execution_count": null,
   "metadata": {},
   "outputs": [],
   "source": []
  }
 ],
 "metadata": {
  "kernelspec": {
   "display_name": "Python 3",
   "language": "python",
   "name": "python3"
  },
  "language_info": {
   "codemirror_mode": {
    "name": "ipython",
    "version": 3
   },
   "file_extension": ".py",
   "mimetype": "text/x-python",
   "name": "python",
   "nbconvert_exporter": "python",
   "pygments_lexer": "ipython3",
   "version": "3.7.4"
  }
 },
 "nbformat": 4,
 "nbformat_minor": 4
}
