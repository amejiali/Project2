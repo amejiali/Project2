{
 "cells": [
  {
   "cell_type": "code",
   "execution_count": 124,
   "metadata": {},
   "outputs": [],
   "source": [
    "import pandas as pd\n",
    "from pathlib import Path\n",
    "import hvplot.pandas\n",
    "import numpy as np\n",
    "from sklearn import preprocessing\n",
    "import datetime\n",
    "import matplotlib.pyplot as plt"
   ]
  },
  {
   "cell_type": "code",
   "execution_count": 125,
   "metadata": {},
   "outputs": [],
   "source": [
    "fb_csv = Path(\"../Resources/fb_data.csv\")\n",
    "fb_df = pd.read_csv(fb_csv)\n",
    "fb_df['Date'] = pd.to_datetime(fb_df.Date).dt.date"
   ]
  },
  {
   "cell_type": "code",
   "execution_count": 126,
   "metadata": {},
   "outputs": [
    {
     "data": {
      "text/html": [
       "<div>\n",
       "<style scoped>\n",
       "    .dataframe tbody tr th:only-of-type {\n",
       "        vertical-align: middle;\n",
       "    }\n",
       "\n",
       "    .dataframe tbody tr th {\n",
       "        vertical-align: top;\n",
       "    }\n",
       "\n",
       "    .dataframe thead th {\n",
       "        text-align: right;\n",
       "    }\n",
       "</style>\n",
       "<table border=\"1\" class=\"dataframe\">\n",
       "  <thead>\n",
       "    <tr style=\"text-align: right;\">\n",
       "      <th></th>\n",
       "      <th>Date</th>\n",
       "      <th>Open</th>\n",
       "      <th>High</th>\n",
       "      <th>Low</th>\n",
       "      <th>Close</th>\n",
       "      <th>Volume</th>\n",
       "      <th>Volatility</th>\n",
       "      <th>sentiment</th>\n",
       "      <th>RSI</th>\n",
       "    </tr>\n",
       "  </thead>\n",
       "  <tbody>\n",
       "    <tr>\n",
       "      <th>0</th>\n",
       "      <td>2019-01-02</td>\n",
       "      <td>128.99</td>\n",
       "      <td>137.51</td>\n",
       "      <td>128.56</td>\n",
       "      <td>135.4100</td>\n",
       "      <td>25465924</td>\n",
       "      <td>0.286522</td>\n",
       "      <td>-0.025997</td>\n",
       "      <td>NaN</td>\n",
       "    </tr>\n",
       "    <tr>\n",
       "      <th>1</th>\n",
       "      <td>2019-01-03</td>\n",
       "      <td>134.69</td>\n",
       "      <td>137.17</td>\n",
       "      <td>131.12</td>\n",
       "      <td>131.8902</td>\n",
       "      <td>18011900</td>\n",
       "      <td>0.088181</td>\n",
       "      <td>-0.057317</td>\n",
       "      <td>NaN</td>\n",
       "    </tr>\n",
       "    <tr>\n",
       "      <th>2</th>\n",
       "      <td>2019-01-04</td>\n",
       "      <td>134.01</td>\n",
       "      <td>138.00</td>\n",
       "      <td>133.75</td>\n",
       "      <td>137.9400</td>\n",
       "      <td>23927539</td>\n",
       "      <td>0.164677</td>\n",
       "      <td>0.083206</td>\n",
       "      <td>NaN</td>\n",
       "    </tr>\n",
       "    <tr>\n",
       "      <th>3</th>\n",
       "      <td>2019-01-07</td>\n",
       "      <td>137.45</td>\n",
       "      <td>138.87</td>\n",
       "      <td>135.91</td>\n",
       "      <td>138.2300</td>\n",
       "      <td>16261533</td>\n",
       "      <td>0.021965</td>\n",
       "      <td>-0.016295</td>\n",
       "      <td>NaN</td>\n",
       "    </tr>\n",
       "    <tr>\n",
       "      <th>4</th>\n",
       "      <td>2019-01-08</td>\n",
       "      <td>139.89</td>\n",
       "      <td>143.14</td>\n",
       "      <td>139.54</td>\n",
       "      <td>142.5843</td>\n",
       "      <td>22239823</td>\n",
       "      <td>0.104831</td>\n",
       "      <td>0.039262</td>\n",
       "      <td>NaN</td>\n",
       "    </tr>\n",
       "  </tbody>\n",
       "</table>\n",
       "</div>"
      ],
      "text/plain": [
       "         Date    Open    High     Low     Close    Volume  Volatility  \\\n",
       "0  2019-01-02  128.99  137.51  128.56  135.4100  25465924    0.286522   \n",
       "1  2019-01-03  134.69  137.17  131.12  131.8902  18011900    0.088181   \n",
       "2  2019-01-04  134.01  138.00  133.75  137.9400  23927539    0.164677   \n",
       "3  2019-01-07  137.45  138.87  135.91  138.2300  16261533    0.021965   \n",
       "4  2019-01-08  139.89  143.14  139.54  142.5843  22239823    0.104831   \n",
       "\n",
       "   sentiment  RSI  \n",
       "0  -0.025997  NaN  \n",
       "1  -0.057317  NaN  \n",
       "2   0.083206  NaN  \n",
       "3  -0.016295  NaN  \n",
       "4   0.039262  NaN  "
      ]
     },
     "execution_count": 126,
     "metadata": {},
     "output_type": "execute_result"
    }
   ],
   "source": [
    "fb_df.head()"
   ]
  },
  {
   "cell_type": "code",
   "execution_count": 127,
   "metadata": {},
   "outputs": [
    {
     "data": {
      "text/html": [
       "<div>\n",
       "<style scoped>\n",
       "    .dataframe tbody tr th:only-of-type {\n",
       "        vertical-align: middle;\n",
       "    }\n",
       "\n",
       "    .dataframe tbody tr th {\n",
       "        vertical-align: top;\n",
       "    }\n",
       "\n",
       "    .dataframe thead th {\n",
       "        text-align: right;\n",
       "    }\n",
       "</style>\n",
       "<table border=\"1\" class=\"dataframe\">\n",
       "  <thead>\n",
       "    <tr style=\"text-align: right;\">\n",
       "      <th></th>\n",
       "      <th>Date</th>\n",
       "      <th>Close</th>\n",
       "      <th>Volume</th>\n",
       "      <th>Volatility</th>\n",
       "      <th>sentiment</th>\n",
       "      <th>RSI</th>\n",
       "    </tr>\n",
       "  </thead>\n",
       "  <tbody>\n",
       "    <tr>\n",
       "      <th>0</th>\n",
       "      <td>2019-01-02</td>\n",
       "      <td>135.4100</td>\n",
       "      <td>25465924</td>\n",
       "      <td>0.286522</td>\n",
       "      <td>-0.025997</td>\n",
       "      <td>NaN</td>\n",
       "    </tr>\n",
       "    <tr>\n",
       "      <th>1</th>\n",
       "      <td>2019-01-03</td>\n",
       "      <td>131.8902</td>\n",
       "      <td>18011900</td>\n",
       "      <td>0.088181</td>\n",
       "      <td>-0.057317</td>\n",
       "      <td>NaN</td>\n",
       "    </tr>\n",
       "    <tr>\n",
       "      <th>2</th>\n",
       "      <td>2019-01-04</td>\n",
       "      <td>137.9400</td>\n",
       "      <td>23927539</td>\n",
       "      <td>0.164677</td>\n",
       "      <td>0.083206</td>\n",
       "      <td>NaN</td>\n",
       "    </tr>\n",
       "    <tr>\n",
       "      <th>3</th>\n",
       "      <td>2019-01-07</td>\n",
       "      <td>138.2300</td>\n",
       "      <td>16261533</td>\n",
       "      <td>0.021965</td>\n",
       "      <td>-0.016295</td>\n",
       "      <td>NaN</td>\n",
       "    </tr>\n",
       "    <tr>\n",
       "      <th>4</th>\n",
       "      <td>2019-01-08</td>\n",
       "      <td>142.5843</td>\n",
       "      <td>22239823</td>\n",
       "      <td>0.104831</td>\n",
       "      <td>0.039262</td>\n",
       "      <td>NaN</td>\n",
       "    </tr>\n",
       "  </tbody>\n",
       "</table>\n",
       "</div>"
      ],
      "text/plain": [
       "         Date     Close    Volume  Volatility  sentiment  RSI\n",
       "0  2019-01-02  135.4100  25465924    0.286522  -0.025997  NaN\n",
       "1  2019-01-03  131.8902  18011900    0.088181  -0.057317  NaN\n",
       "2  2019-01-04  137.9400  23927539    0.164677   0.083206  NaN\n",
       "3  2019-01-07  138.2300  16261533    0.021965  -0.016295  NaN\n",
       "4  2019-01-08  142.5843  22239823    0.104831   0.039262  NaN"
      ]
     },
     "execution_count": 127,
     "metadata": {},
     "output_type": "execute_result"
    }
   ],
   "source": [
    "df = fb_df.drop(columns=['Open', 'High', 'Low'])\n",
    "df.head()"
   ]
  },
  {
   "cell_type": "code",
   "execution_count": 128,
   "metadata": {},
   "outputs": [
    {
     "data": {
      "text/html": [
       "<div>\n",
       "<style scoped>\n",
       "    .dataframe tbody tr th:only-of-type {\n",
       "        vertical-align: middle;\n",
       "    }\n",
       "\n",
       "    .dataframe tbody tr th {\n",
       "        vertical-align: top;\n",
       "    }\n",
       "\n",
       "    .dataframe thead th {\n",
       "        text-align: right;\n",
       "    }\n",
       "</style>\n",
       "<table border=\"1\" class=\"dataframe\">\n",
       "  <thead>\n",
       "    <tr style=\"text-align: right;\">\n",
       "      <th></th>\n",
       "      <th>Close</th>\n",
       "      <th>Volume</th>\n",
       "      <th>Volatility</th>\n",
       "      <th>sentiment</th>\n",
       "      <th>RSI</th>\n",
       "    </tr>\n",
       "    <tr>\n",
       "      <th>Date</th>\n",
       "      <th></th>\n",
       "      <th></th>\n",
       "      <th></th>\n",
       "      <th></th>\n",
       "      <th></th>\n",
       "    </tr>\n",
       "  </thead>\n",
       "  <tbody>\n",
       "    <tr>\n",
       "      <th>2019-01-23</th>\n",
       "      <td>144.0700</td>\n",
       "      <td>18612594</td>\n",
       "      <td>0.137177</td>\n",
       "      <td>-0.004345</td>\n",
       "      <td>63.799213</td>\n",
       "    </tr>\n",
       "    <tr>\n",
       "      <th>2019-01-24</th>\n",
       "      <td>145.7400</td>\n",
       "      <td>19111339</td>\n",
       "      <td>0.036593</td>\n",
       "      <td>-0.016481</td>\n",
       "      <td>65.761585</td>\n",
       "    </tr>\n",
       "    <tr>\n",
       "      <th>2019-01-25</th>\n",
       "      <td>149.0944</td>\n",
       "      <td>17851615</td>\n",
       "      <td>0.050271</td>\n",
       "      <td>0.063057</td>\n",
       "      <td>69.354989</td>\n",
       "    </tr>\n",
       "    <tr>\n",
       "      <th>2019-01-28</th>\n",
       "      <td>147.3700</td>\n",
       "      <td>12571121</td>\n",
       "      <td>0.014710</td>\n",
       "      <td>-0.013302</td>\n",
       "      <td>65.546525</td>\n",
       "    </tr>\n",
       "    <tr>\n",
       "      <th>2019-01-29</th>\n",
       "      <td>144.1150</td>\n",
       "      <td>16035997</td>\n",
       "      <td>0.111537</td>\n",
       "      <td>0.052186</td>\n",
       "      <td>58.964486</td>\n",
       "    </tr>\n",
       "  </tbody>\n",
       "</table>\n",
       "</div>"
      ],
      "text/plain": [
       "               Close    Volume  Volatility  sentiment        RSI\n",
       "Date                                                            \n",
       "2019-01-23  144.0700  18612594    0.137177  -0.004345  63.799213\n",
       "2019-01-24  145.7400  19111339    0.036593  -0.016481  65.761585\n",
       "2019-01-25  149.0944  17851615    0.050271   0.063057  69.354989\n",
       "2019-01-28  147.3700  12571121    0.014710  -0.013302  65.546525\n",
       "2019-01-29  144.1150  16035997    0.111537   0.052186  58.964486"
      ]
     },
     "execution_count": 128,
     "metadata": {},
     "output_type": "execute_result"
    }
   ],
   "source": [
    "#df[\"Feature\"] = df.Close.shift(1)\n",
    "df.dropna(inplace=True)\n",
    "df.set_index(\"Date\", inplace = True)\n",
    "df.head()"
   ]
  },
  {
   "cell_type": "code",
   "execution_count": 129,
   "metadata": {},
   "outputs": [],
   "source": [
    "X = df.iloc[:, 1:].values\n",
    "y = df[\"Close\"].values"
   ]
  },
  {
   "cell_type": "code",
   "execution_count": 130,
   "metadata": {},
   "outputs": [],
   "source": [
    "#from sklearn.preprocessing import StandardScaler\n",
    "\n",
    "#scaler = StandardScaler().fit(X)\n",
    "#X = scaler.transform(X)"
   ]
  },
  {
   "cell_type": "code",
   "execution_count": 131,
   "metadata": {},
   "outputs": [],
   "source": [
    "\n",
    "y = y.reshape(-1,1)"
   ]
  },
  {
   "cell_type": "code",
   "execution_count": 132,
   "metadata": {},
   "outputs": [],
   "source": [
    "# Use 70% of the data for training and the remainder for testing\n",
    "split = int(0.7 * len(X))\n",
    "X_train = X[: split - 1]\n",
    "X_test = X[split:]\n",
    "y_train = y[: split - 1]\n",
    "y_test = y[split:]"
   ]
  },
  {
   "cell_type": "code",
   "execution_count": 133,
   "metadata": {},
   "outputs": [],
   "source": [
    "# Use the MinMaxScaler to scale data between 0 and 1.\n",
    "from sklearn.preprocessing import MinMaxScaler\n",
    "\n",
    "scaler = MinMaxScaler()\n",
    "scaler.fit(X_train)\n",
    "X_train = scaler.transform(X_train)\n",
    "X_test = scaler.transform(X_test)\n",
    "scaler.fit(y_train)\n",
    "y_train = scaler.transform(y_train)\n",
    "y_test = scaler.transform(y_test)"
   ]
  },
  {
   "cell_type": "code",
   "execution_count": 134,
   "metadata": {},
   "outputs": [
    {
     "name": "stdout",
     "output_type": "stream",
     "text": [
      "X_train sample values:\n",
      "[[[0.19827975]\n",
      "  [0.13717687]\n",
      "  [0.30312903]\n",
      "  [0.69243052]]\n",
      "\n",
      " [[0.2059946 ]\n",
      "  [0.0365929 ]\n",
      "  [0.26847401]\n",
      "  [0.73014052]]\n",
      "\n",
      " [[0.18650852]\n",
      "  [0.05027127]\n",
      "  [0.49560003]\n",
      "  [0.79919332]]\n",
      "\n",
      " [[0.10482706]\n",
      "  [0.0147099 ]\n",
      "  [0.27755232]\n",
      "  [0.7260078 ]]\n",
      "\n",
      " [[0.15842359]\n",
      "  [0.11153653]\n",
      "  [0.46455862]\n",
      "  [0.59952377]]] \n",
      "\n",
      "X_test sample values:\n",
      "[[[0.05585229]\n",
      "  [0.02429723]\n",
      "  [0.66076264]\n",
      "  [0.5336443 ]]\n",
      "\n",
      " [[0.19919033]\n",
      "  [0.02460742]\n",
      "  [0.41819009]\n",
      "  [0.52367735]]\n",
      "\n",
      " [[0.08115002]\n",
      "  [0.04794002]\n",
      "  [0.21068219]\n",
      "  [0.40812819]]\n",
      "\n",
      " [[0.14660526]\n",
      "  [0.17893088]\n",
      "  [0.42008512]\n",
      "  [0.24178547]]\n",
      "\n",
      " [[0.15594957]\n",
      "  [0.03675549]\n",
      "  [0.36095409]\n",
      "  [0.29737212]]]\n"
     ]
    }
   ],
   "source": [
    "X_train = X_train.reshape((X_train.shape[0], X_train.shape[1], 1))\n",
    "X_test = X_test.reshape((X_test.shape[0], X_test.shape[1], 1))\n",
    "print (f\"X_train sample values:\\n{X_train[:5]} \\n\")\n",
    "print (f\"X_test sample values:\\n{X_test[:5]}\")"
   ]
  },
  {
   "cell_type": "code",
   "execution_count": 135,
   "metadata": {},
   "outputs": [],
   "source": [
    "# Import required Keras modules\n",
    "from tensorflow.keras.models import Sequential\n",
    "from tensorflow.keras.layers import LSTM, Dense, Dropout"
   ]
  },
  {
   "cell_type": "code",
   "execution_count": 149,
   "metadata": {},
   "outputs": [],
   "source": [
    "# Define the LSTM RNN model.\n",
    "model = Sequential()\n",
    "\n",
    "number_units = 5\n",
    "dropout_fraction = 0.2\n",
    "\n",
    "# Layer 1\n",
    "model.add(LSTM(\n",
    "    units=number_units,\n",
    "    return_sequences=True,\n",
    "    input_shape=(X_train.shape[1], 1))\n",
    "    )\n",
    "model.add(Dropout(dropout_fraction))\n",
    "# Layer 2\n",
    "model.add(LSTM(units=number_units, return_sequences=True))\n",
    "model.add(Dropout(dropout_fraction))\n",
    "# Layer 3\n",
    "model.add(LSTM(units=number_units))\n",
    "model.add(Dropout(dropout_fraction))\n",
    "# Output layer\n",
    "model.add(Dense(1))"
   ]
  },
  {
   "cell_type": "code",
   "execution_count": 150,
   "metadata": {},
   "outputs": [],
   "source": [
    "# Compile the model\n",
    "model.compile(optimizer=\"adam\", loss=\"mean_squared_error\")"
   ]
  },
  {
   "cell_type": "code",
   "execution_count": 151,
   "metadata": {},
   "outputs": [
    {
     "name": "stdout",
     "output_type": "stream",
     "text": [
      "Model: \"sequential_8\"\n",
      "_________________________________________________________________\n",
      "Layer (type)                 Output Shape              Param #   \n",
      "=================================================================\n",
      "lstm_18 (LSTM)               (None, 4, 5)              140       \n",
      "_________________________________________________________________\n",
      "dropout_18 (Dropout)         (None, 4, 5)              0         \n",
      "_________________________________________________________________\n",
      "lstm_19 (LSTM)               (None, 4, 5)              220       \n",
      "_________________________________________________________________\n",
      "dropout_19 (Dropout)         (None, 4, 5)              0         \n",
      "_________________________________________________________________\n",
      "lstm_20 (LSTM)               (None, 5)                 220       \n",
      "_________________________________________________________________\n",
      "dropout_20 (Dropout)         (None, 5)                 0         \n",
      "_________________________________________________________________\n",
      "dense_6 (Dense)              (None, 1)                 6         \n",
      "=================================================================\n",
      "Total params: 586\n",
      "Trainable params: 586\n",
      "Non-trainable params: 0\n",
      "_________________________________________________________________\n"
     ]
    }
   ],
   "source": [
    "# Summarize the model\n",
    "model.summary()"
   ]
  },
  {
   "cell_type": "code",
   "execution_count": 152,
   "metadata": {},
   "outputs": [
    {
     "name": "stdout",
     "output_type": "stream",
     "text": [
      "Train on 165 samples\n",
      "Epoch 1/20\n",
      "165/165 [==============================] - 8s 48ms/sample - loss: 0.0725\n",
      "Epoch 2/20\n",
      "165/165 [==============================] - 2s 15ms/sample - loss: 0.0587\n",
      "Epoch 3/20\n",
      "165/165 [==============================] - 2s 15ms/sample - loss: 0.0652\n",
      "Epoch 4/20\n",
      "165/165 [==============================] - 3s 17ms/sample - loss: 0.0615\n",
      "Epoch 5/20\n",
      "165/165 [==============================] - 3s 20ms/sample - loss: 0.0609\n",
      "Epoch 6/20\n",
      "165/165 [==============================] - 3s 17ms/sample - loss: 0.0622\n",
      "Epoch 7/20\n",
      "165/165 [==============================] - 3s 17ms/sample - loss: 0.0614\n",
      "Epoch 8/20\n",
      "165/165 [==============================] - 3s 18ms/sample - loss: 0.0587\n",
      "Epoch 9/20\n",
      "165/165 [==============================] - 4s 24ms/sample - loss: 0.0574\n",
      "Epoch 10/20\n",
      "165/165 [==============================] - 3s 20ms/sample - loss: 0.0616\n",
      "Epoch 11/20\n",
      "165/165 [==============================] - 3s 18ms/sample - loss: 0.0616\n",
      "Epoch 12/20\n",
      "165/165 [==============================] - 3s 17ms/sample - loss: 0.0586\n",
      "Epoch 13/20\n",
      "165/165 [==============================] - 3s 17ms/sample - loss: 0.0612\n",
      "Epoch 14/20\n",
      "165/165 [==============================] - 3s 16ms/sample - loss: 0.0537\n",
      "Epoch 15/20\n",
      "165/165 [==============================] - 3s 17ms/sample - loss: 0.0558\n",
      "Epoch 16/20\n",
      "165/165 [==============================] - 3s 18ms/sample - loss: 0.0574\n",
      "Epoch 17/20\n",
      "165/165 [==============================] - 3s 18ms/sample - loss: 0.0566\n",
      "Epoch 18/20\n",
      "165/165 [==============================] - 3s 18ms/sample - loss: 0.0524\n",
      "Epoch 19/20\n",
      "165/165 [==============================] - 4s 21ms/sample - loss: 0.0583\n",
      "Epoch 20/20\n",
      "165/165 [==============================] - 4s 23ms/sample - loss: 0.0553\n"
     ]
    },
    {
     "data": {
      "text/plain": [
       "<tensorflow.python.keras.callbacks.History at 0x14ff07690>"
      ]
     },
     "execution_count": 152,
     "metadata": {},
     "output_type": "execute_result"
    }
   ],
   "source": [
    "model.fit(X_train, y_train, epochs=20, shuffle=False, batch_size=1, verbose=1)"
   ]
  },
  {
   "cell_type": "code",
   "execution_count": 119,
   "metadata": {},
   "outputs": [
    {
     "name": "stdout",
     "output_type": "stream",
     "text": [
      "72/72 [==============================] - 0s 330us/sample - loss: 0.0377\n"
     ]
    },
    {
     "data": {
      "text/plain": [
       "0.03766960505810049"
      ]
     },
     "execution_count": 119,
     "metadata": {},
     "output_type": "execute_result"
    }
   ],
   "source": [
    "model.evaluate(X_test, y_test)"
   ]
  },
  {
   "cell_type": "code",
   "execution_count": 120,
   "metadata": {},
   "outputs": [],
   "source": [
    "predicted = model.predict(X_test)"
   ]
  },
  {
   "cell_type": "code",
   "execution_count": 121,
   "metadata": {},
   "outputs": [],
   "source": [
    "# Recover the original prices instead of the scaled version\n",
    "predicted_prices = scaler.inverse_transform(predicted)\n",
    "real_prices = scaler.inverse_transform(y_test.reshape(-1, 1))"
   ]
  },
  {
   "cell_type": "code",
   "execution_count": 122,
   "metadata": {},
   "outputs": [
    {
     "data": {
      "text/html": [
       "<div>\n",
       "<style scoped>\n",
       "    .dataframe tbody tr th:only-of-type {\n",
       "        vertical-align: middle;\n",
       "    }\n",
       "\n",
       "    .dataframe tbody tr th {\n",
       "        vertical-align: top;\n",
       "    }\n",
       "\n",
       "    .dataframe thead th {\n",
       "        text-align: right;\n",
       "    }\n",
       "</style>\n",
       "<table border=\"1\" class=\"dataframe\">\n",
       "  <thead>\n",
       "    <tr style=\"text-align: right;\">\n",
       "      <th></th>\n",
       "      <th>Real</th>\n",
       "      <th>Predicted</th>\n",
       "    </tr>\n",
       "  </thead>\n",
       "  <tbody>\n",
       "    <tr>\n",
       "      <th>0</th>\n",
       "      <td>0.757521</td>\n",
       "      <td>0.666079</td>\n",
       "    </tr>\n",
       "    <tr>\n",
       "      <th>1</th>\n",
       "      <td>0.753411</td>\n",
       "      <td>0.666156</td>\n",
       "    </tr>\n",
       "    <tr>\n",
       "      <th>2</th>\n",
       "      <td>0.703271</td>\n",
       "      <td>0.662448</td>\n",
       "    </tr>\n",
       "    <tr>\n",
       "      <th>3</th>\n",
       "      <td>0.611879</td>\n",
       "      <td>0.666140</td>\n",
       "    </tr>\n",
       "    <tr>\n",
       "      <th>4</th>\n",
       "      <td>0.636364</td>\n",
       "      <td>0.664274</td>\n",
       "    </tr>\n",
       "  </tbody>\n",
       "</table>\n",
       "</div>"
      ],
      "text/plain": [
       "       Real  Predicted\n",
       "0  0.757521   0.666079\n",
       "1  0.753411   0.666156\n",
       "2  0.703271   0.662448\n",
       "3  0.611879   0.666140\n",
       "4  0.636364   0.664274"
      ]
     },
     "execution_count": 122,
     "metadata": {},
     "output_type": "execute_result"
    }
   ],
   "source": [
    "# Create a DataFrame of Real and Predicted values\n",
    "stocks = pd.DataFrame({\n",
    "    \"Real\": real_prices.ravel(),\n",
    "    \"Predicted\": predicted_prices.ravel()\n",
    "})\n",
    "stocks.head()"
   ]
  },
  {
   "cell_type": "code",
   "execution_count": 123,
   "metadata": {},
   "outputs": [
    {
     "data": {
      "text/plain": [
       "<matplotlib.axes._subplots.AxesSubplot at 0x14f47df50>"
      ]
     },
     "execution_count": 123,
     "metadata": {},
     "output_type": "execute_result"
    },
    {
     "data": {
      "image/png": "[encoded data removed]",
      "text/plain": [
       "<Figure size 1440x720 with 1 Axes>"
      ]
     },
     "metadata": {
      "needs_background": "light"
     },
     "output_type": "display_data"
    }
   ],
   "source": [
    "stocks.plot(figsize = (20,10))"
   ]
  },
  {
   "cell_type": "code",
   "execution_count": null,
   "metadata": {},
   "outputs": [],
   "source": []
  },
  {
   "cell_type": "code",
   "execution_count": null,
   "metadata": {},
   "outputs": [],
   "source": []
  }
 ],
 "metadata": {
  "kernelspec": {
   "display_name": "Python 3",
   "language": "python",
   "name": "python3"
  },
  "language_info": {
   "codemirror_mode": {
    "name": "ipython",
    "version": 3
   },
   "file_extension": ".py",
   "mimetype": "text/x-python",
   "name": "python",
   "nbconvert_exporter": "python",
   "pygments_lexer": "ipython3",
   "version": "3.7.4"
  }
 },
 "nbformat": 4,
 "nbformat_minor": 4
}
