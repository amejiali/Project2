{
 "cells": [
  {
   "cell_type": "code",
   "execution_count": 1,
   "metadata": {},
   "outputs": [
    {
     "name": "stdout",
     "output_type": "stream",
     "text": [
      "Requirement already satisfied: mpl_finance in /anaconda3/lib/python3.7/site-packages (0.10.1)\n",
      "Requirement already satisfied: matplotlib in /anaconda3/lib/python3.7/site-packages (from mpl_finance) (3.2.0)\n",
      "Requirement already satisfied: pyparsing!=2.0.4,!=2.1.2,!=2.1.6,>=2.0.1 in /anaconda3/lib/python3.7/site-packages (from matplotlib->mpl_finance) (2.4.6)\n",
      "Requirement already satisfied: python-dateutil>=2.1 in /anaconda3/lib/python3.7/site-packages (from matplotlib->mpl_finance) (2.8.1)\n",
      "Requirement already satisfied: cycler>=0.10 in /anaconda3/lib/python3.7/site-packages (from matplotlib->mpl_finance) (0.10.0)\n",
      "Requirement already satisfied: kiwisolver>=1.0.1 in /anaconda3/lib/python3.7/site-packages (from matplotlib->mpl_finance) (1.1.0)\n",
      "Requirement already satisfied: numpy>=1.11 in /anaconda3/lib/python3.7/site-packages (from matplotlib->mpl_finance) (1.18.1)\n",
      "Requirement already satisfied: six>=1.5 in /anaconda3/lib/python3.7/site-packages (from python-dateutil>=2.1->matplotlib->mpl_finance) (1.14.0)\n",
      "Requirement already satisfied: setuptools in /anaconda3/lib/python3.7/site-packages (from kiwisolver>=1.0.1->matplotlib->mpl_finance) (46.0.0.post20200311)\n"
     ]
    }
   ],
   "source": [
    "!pip install mpl_finance"
   ]
  },
  {
   "cell_type": "code",
   "execution_count": 2,
   "metadata": {},
   "outputs": [],
   "source": [
    "import datetime\n",
    "import pytz\n",
    "from sklearn.cluster import KMeans\n",
    "from matplotlib import pyplot as plt\n",
    "import matplotlib.ticker as mpticker\n",
    "import pandas\n",
    "import numpy\n",
    "from pathlib import Path\n",
    "from mpl_finance import candlestick_ohlc"
   ]
  },
  {
   "cell_type": "code",
   "execution_count": 178,
   "metadata": {},
   "outputs": [],
   "source": [
    "def get_optimum_clusters(df, saturation_point=0.05):\n",
    "    '''\n",
    "    :param df: dataframe\n",
    "    :param saturation_point: The amount of difference we are willing to detect\n",
    "    :return: clusters with optimum K centers\n",
    "    This method uses elbow method to find the optimum number of K clusters\n",
    "    We initialize different K-means with 1..10 centers and compare the inertias\n",
    "    If the difference is no more than saturation_point, we choose that as K and move on\n",
    "    '''\n",
    "\n",
    "    wcss = []\n",
    "    k_models = []\n",
    "\n",
    "    size = min(11, len(df.index))\n",
    "    for i in range(1, size):\n",
    "        kmeans = KMeans(n_clusters=i, init='k-means++', max_iter=30, n_init=10, random_state=0)\n",
    "        kmeans.fit(df)\n",
    "        wcss.append(kmeans.inertia_)\n",
    "        k_models.append(kmeans)\n",
    "\n",
    "    # Compare differences in inertias until it's no more than saturation_point\n",
    "    optimum_k = len(wcss)-1\n",
    "    for i in range(0, len(wcss)-1):\n",
    "        diff = abs(wcss[i+1] - wcss[i])\n",
    "        if diff < saturation_point:\n",
    "            optimum_k = i\n",
    "            break\n",
    "\n",
    "    print(\"Optimum K is \" + str(optimum_k + 1))\n",
    "    optimum_clusters = k_models[optimum_k]\n",
    "\n",
    "    return optimum_clusters\n",
    "\n",
    "\n",
    "def plot_stock_data(data):\n",
    "    fig, ax = plt.subplots()\n",
    "    ax1 = plt.subplot2grid((5,1), (0,0), rowspan=4)\n",
    "    ax2 = plt.subplot2grid((5,1), (4,0), sharex=ax1)\n",
    "\n",
    "    ax1.set_title(\"{} - {}\".format(symbol, start))\n",
    "    ax1.set_facecolor(\"#131722\")\n",
    "    ax1.xaxis.set_major_formatter(mpticker.FuncFormatter(mydate))\n",
    "\n",
    "    candlestick_ohlc(ax1, data.to_numpy(), width=8, colorup='#77d879', colordown='#db3f3f')\n",
    "\n",
    "    ax2.bar(data['Time'], data['Volume'], width=30)\n",
    "    ax2.xaxis.set_major_formatter(mpticker.FuncFormatter(mydate))\n",
    "    fig.subplots_adjust(hspace=0)\n",
    "    fig.autofmt_xdate()\n",
    "    return ax1\n",
    "\n",
    "\n",
    "def mydate(x,pos):\n",
    "    try:\n",
    "        return datetime.datetime.fromtimestamp(x, tz=est).strftime(date_format)\n",
    "    except IndexError:\n",
    "        return ''\n",
    "\n"
   ]
  },
  {
   "cell_type": "code",
   "execution_count": 26,
   "metadata": {},
   "outputs": [],
   "source": [
    "from pathlib import Path\n",
    "import pandas as pd"
   ]
  },
  {
   "cell_type": "markdown",
   "metadata": {},
   "source": [
    "## Apple Support and Resistance"
   ]
  },
  {
   "cell_type": "code",
   "execution_count": 39,
   "metadata": {},
   "outputs": [],
   "source": [
    "aapl_csv = Path(\"Resources/aapl_data.csv\")\n",
    "aapl_returns = pd.read_csv(aapl_csv, index_col='Date', infer_datetime_format=True, parse_dates=True)"
   ]
  },
  {
   "cell_type": "code",
   "execution_count": 179,
   "metadata": {},
   "outputs": [
    {
     "name": "stdout",
     "output_type": "stream",
     "text": [
      "Optimum K is 6\n",
      "Optimum K is 6\n",
      "                                   Time    Open    High       Low     Close  \\\n",
      "Date                                                                          \n",
      "2019-12-31 00:00:00-05:00  1.577750e+09  289.93  293.68  289.5200  293.3700   \n",
      "2019-12-30 00:00:00-05:00  1.577664e+09  289.46  292.69  285.2200  291.6470   \n",
      "2019-12-27 00:00:00-05:00  1.577405e+09  291.12  293.97  288.1200  289.8300   \n",
      "2019-12-26 00:00:00-05:00  1.577318e+09  284.78  289.98  284.7000  289.9100   \n",
      "2019-12-24 00:00:00-05:00  1.577146e+09  284.69  284.89  282.9197  284.2762   \n",
      "2019-12-23 00:00:00-05:00  1.577059e+09  280.53  284.25  280.3735  283.9700   \n",
      "2019-12-20 00:00:00-05:00  1.576800e+09  282.23  282.65  278.5600  279.2800   \n",
      "\n",
      "                             Volume  \n",
      "Date                                 \n",
      "2019-12-31 00:00:00-05:00  21437960  \n",
      "2019-12-30 00:00:00-05:00  33920736  \n",
      "2019-12-27 00:00:00-05:00  32927275  \n",
      "2019-12-26 00:00:00-05:00  20772521  \n",
      "2019-12-24 00:00:00-05:00   9678447  \n",
      "2019-12-23 00:00:00-05:00  18737610  \n",
      "2019-12-20 00:00:00-05:00  34326205  \n",
      "[[278.56  ]\n",
      " [280.3735]\n",
      " [282.9197]\n",
      " [284.96  ]\n",
      " [288.12  ]\n",
      " [289.52  ]]\n",
      "[[282.65 ]\n",
      " [284.25 ]\n",
      " [284.89 ]\n",
      " [289.98 ]\n",
      " [292.69 ]\n",
      " [293.825]]\n"
     ]
    },
    {
     "data": {
      "image/png": "[encoded data removed]",
      "text/plain": [
       "<Figure size 432x288 with 2 Axes>"
      ]
     },
     "metadata": {
      "needs_background": "light"
     },
     "output_type": "display_data"
    }
   ],
   "source": [
    "# Use the previous 7 days to find support and resistance levels\n",
    "data = aapl_returns.sort_index(ascending=False)\n",
    "data = data.iloc[:7]\n",
    "data[\"Time\"] = [d.timestamp() for d in data.index]\n",
    "data = data.tz_localize('EST')\n",
    "data.Time = data.Time.tz_convert(est)\n",
    "data = data[[\"Time\", \"Open\", \"High\", \"Low\", \"Close\", \"Volume\"]]\n",
    "\n",
    "\n",
    "ax = plot_stock_data(data)\n",
    "\n",
    "lod, hod = 0, 0\n",
    "\n",
    "lows = pandas.DataFrame(data=data, index=data.index, columns=[\"Low\"])\n",
    "highs = pandas.DataFrame(data=data, index=data.index, columns=[\"High\"])\n",
    "\n",
    "low_clusters = get_optimum_clusters(lows)\n",
    "low_centers = low_clusters.cluster_centers_\n",
    "low_centers = numpy.sort(low_centers, axis=0)\n",
    "\n",
    "high_clusters = get_optimum_clusters(highs)\n",
    "high_centers = high_clusters.cluster_centers_\n",
    "high_centers = numpy.sort(high_centers, axis=0)\n",
    "\n",
    "print(data)\n",
    "print(low_centers)\n",
    "print(high_centers)\n",
    "\n",
    "for low in low_centers[:2]:\n",
    "    ax.axhline(low[0], color='yellow', ls='--')\n",
    "\n",
    "for high in high_centers[-1:]:\n",
    "    ax.axhline(high[0], color='orange', ls='--')\n",
    "\n",
    "plt.show()"
   ]
  },
  {
   "cell_type": "code",
   "execution_count": 67,
   "metadata": {},
   "outputs": [
    {
     "data": {
      "text/plain": [
       "array([[282.65 ],\n",
       "       [284.25 ],\n",
       "       [284.89 ],\n",
       "       [289.98 ],\n",
       "       [292.69 ],\n",
       "       [293.825]])"
      ]
     },
     "execution_count": 67,
     "metadata": {},
     "output_type": "execute_result"
    }
   ],
   "source": [
    "high_centers"
   ]
  },
  {
   "cell_type": "code",
   "execution_count": 186,
   "metadata": {},
   "outputs": [
    {
     "data": {
      "text/plain": [
       "293.82500000000005"
      ]
     },
     "execution_count": 186,
     "metadata": {},
     "output_type": "execute_result"
    }
   ],
   "source": [
    "# Define support and resistance levels\n",
    "aapl_support, aapl_resistance = low_centers[0][0], high_centers[5][0]\n",
    "aapl_resistance"
   ]
  },
  {
   "cell_type": "markdown",
   "metadata": {},
   "source": [
    "## Amazon Support and Resistance"
   ]
  },
  {
   "cell_type": "code",
   "execution_count": 200,
   "metadata": {},
   "outputs": [],
   "source": [
    "amzn_csv = Path(\"Resources/amzn_data.csv\")\n",
    "amzn_returns = pd.read_csv(amzn_csv, index_col='Date', parse_dates=True)"
   ]
  },
  {
   "cell_type": "code",
   "execution_count": 201,
   "metadata": {},
   "outputs": [],
   "source": [
    "# Use the previous 7 days to find support and resistance levels\n",
    "data = amzn_returns.sort_index(ascending=False)\n",
    "data = data.iloc[:7]\n",
    "data[\"Time\"] = [d.timestamp() for d in data.index]\n",
    "data = data.tz_localize('EST')\n",
    "data.Time = data.Time.tz_convert(est)\n",
    "data = data[[\"Time\", \"Open\", \"High\", \"Low\", \"Close\", \"Volume\"]]"
   ]
  },
  {
   "cell_type": "code",
   "execution_count": 202,
   "metadata": {},
   "outputs": [
    {
     "name": "stdout",
     "output_type": "stream",
     "text": [
      "Optimum K is 6\n",
      "Optimum K is 6\n",
      "                                   Time     Open     High       Low    Close  \\\n",
      "Date                                                                           \n",
      "2019-12-31 00:00:00-05:00  1.577750e+09  1841.99  1853.26  1832.230  1847.64   \n",
      "2019-12-30 00:00:00-05:00  1.577664e+09  1874.00  1884.00  1840.620  1847.18   \n",
      "2019-12-27 00:00:00-05:00  1.577405e+09  1882.92  1901.40  1866.010  1869.26   \n",
      "2019-12-26 00:00:00-05:00  1.577318e+09  1801.20  1870.46  1799.500  1869.02   \n",
      "2019-12-24 00:00:00-05:00  1.577146e+09  1793.81  1795.57  1787.575  1789.63   \n",
      "2019-12-23 00:00:00-05:00  1.577059e+09  1788.26  1793.00  1784.510  1793.00   \n",
      "2019-12-20 00:00:00-05:00  1.576800e+09  1799.64  1802.97  1782.450  1786.57   \n",
      "\n",
      "                            Volume  \n",
      "Date                                \n",
      "2019-12-31 00:00:00-05:00  2138549  \n",
      "2019-12-30 00:00:00-05:00  3444132  \n",
      "2019-12-27 00:00:00-05:00  5755838  \n",
      "2019-12-26 00:00:00-05:00  6125518  \n",
      "2019-12-24 00:00:00-05:00   800738  \n",
      "2019-12-23 00:00:00-05:00  1741287  \n",
      "2019-12-20 00:00:00-05:00  3782377  \n",
      "[[1783.48 ]\n",
      " [1787.575]\n",
      " [1799.5  ]\n",
      " [1832.23 ]\n",
      " [1840.62 ]\n",
      " [1866.01 ]]\n",
      "[[1794.285]\n",
      " [1802.97 ]\n",
      " [1853.26 ]\n",
      " [1870.46 ]\n",
      " [1884.   ]\n",
      " [1901.4  ]]\n"
     ]
    },
    {
     "data": {
      "image/png": "[encoded data removed]",
      "text/plain": [
       "<Figure size 432x288 with 2 Axes>"
      ]
     },
     "metadata": {
      "needs_background": "light"
     },
     "output_type": "display_data"
    }
   ],
   "source": [
    "ax = plot_stock_data(data)\n",
    "\n",
    "lod, hod = 0, 0\n",
    "\n",
    "lows = pandas.DataFrame(data=data, index=data.index, columns=[\"Low\"])\n",
    "highs = pandas.DataFrame(data=data, index=data.index, columns=[\"High\"])\n",
    "\n",
    "low_clusters = get_optimum_clusters(lows)\n",
    "low_centers = low_clusters.cluster_centers_\n",
    "low_centers = numpy.sort(low_centers, axis=0)\n",
    "\n",
    "high_clusters = get_optimum_clusters(highs)\n",
    "high_centers = high_clusters.cluster_centers_\n",
    "high_centers = numpy.sort(high_centers, axis=0)\n",
    "\n",
    "print(data)\n",
    "print(low_centers)\n",
    "print(high_centers)\n",
    "\n",
    "for low in low_centers[:2]:\n",
    "    ax.axhline(low[0], color='yellow', ls='--')\n",
    "\n",
    "for high in high_centers[-1:]:\n",
    "    ax.axhline(high[0], color='orange', ls='--')\n",
    "\n",
    "plt.show()"
   ]
  },
  {
   "cell_type": "code",
   "execution_count": 203,
   "metadata": {},
   "outputs": [
    {
     "data": {
      "text/plain": [
       "1901.4"
      ]
     },
     "execution_count": 203,
     "metadata": {},
     "output_type": "execute_result"
    }
   ],
   "source": [
    "# Define support and resistance levels\n",
    "amzn_support, amzn_resistance = low_centers[0][0], high_centers[5][0]\n",
    "amzn_resistance"
   ]
  },
  {
   "cell_type": "markdown",
   "metadata": {},
   "source": [
    "##  Facebook Support and Resistance"
   ]
  },
  {
   "cell_type": "code",
   "execution_count": 140,
   "metadata": {},
   "outputs": [],
   "source": [
    "fb_csv = Path(\"Resources/fb_data.csv\")\n",
    "fb_returns = pd.read_csv(fb_csv, index_col='Date', parse_dates=True)"
   ]
  },
  {
   "cell_type": "code",
   "execution_count": 175,
   "metadata": {},
   "outputs": [],
   "source": [
    "# Use the previous 7 days to find support and resistance levels\n",
    "data = fb_returns.sort_index(ascending=False)\n",
    "data = data.iloc[:7]\n",
    "data[\"Time\"] = [d.timestamp() for d in data.index]\n",
    "data = data.tz_localize('EST')\n",
    "data.Time = data.Time.tz_convert(est)\n",
    "data = data[[\"Time\", \"Open\", \"High\", \"Low\", \"Close\", \"Volume\"]]"
   ]
  },
  {
   "cell_type": "code",
   "execution_count": 176,
   "metadata": {},
   "outputs": [
    {
     "name": "stdout",
     "output_type": "stream",
     "text": [
      "Optimum K is 5\n",
      "Optimum K is 5\n",
      "                                   Time      Open    High       Low   Close  \\\n",
      "Date                                                                          \n",
      "2019-12-31 00:00:00-05:00  1.577750e+09  203.9950  205.56  203.6001  205.09   \n",
      "2019-12-30 00:00:00-05:00  1.577664e+09  207.9600  207.96  203.9001  204.41   \n",
      "2019-12-27 00:00:00-05:00  1.577405e+09  208.6697  208.93  206.5875  208.10   \n",
      "2019-12-26 00:00:00-05:00  1.577318e+09  205.5100  207.82  205.3100  207.79   \n",
      "2019-12-24 00:00:00-05:00  1.577146e+09  206.3000  206.79  205.0000  205.15   \n",
      "2019-12-23 00:00:00-05:00  1.577059e+09  206.7000  208.59  205.6800  206.18   \n",
      "2019-12-20 00:00:00-05:00  1.576800e+09  207.4800  207.71  203.4300  206.29   \n",
      "\n",
      "                             Volume  \n",
      "Date                                 \n",
      "2019-12-31 00:00:00-05:00   7032528  \n",
      "2019-12-30 00:00:00-05:00   9184949  \n",
      "2019-12-27 00:00:00-05:00   8717172  \n",
      "2019-12-26 00:00:00-05:00   7525951  \n",
      "2019-12-24 00:00:00-05:00   3999834  \n",
      "2019-12-23 00:00:00-05:00   9691106  \n",
      "2019-12-20 00:00:00-05:00  22032010  \n",
      "[[203.51505]\n",
      " [203.9001 ]\n",
      " [205.155  ]\n",
      " [205.68   ]\n",
      " [206.5875 ]]\n",
      "[[205.56]\n",
      " [206.79]\n",
      " [207.83]\n",
      " [208.59]\n",
      " [208.93]]\n"
     ]
    },
    {
     "data": {
      "image/png": "[encoded data removed]",
      "text/plain": [
       "<Figure size 432x288 with 2 Axes>"
      ]
     },
     "metadata": {
      "needs_background": "light"
     },
     "output_type": "display_data"
    }
   ],
   "source": [
    "ax = plot_stock_data(data)\n",
    "\n",
    "lod, hod = 0, 0\n",
    "\n",
    "lows = pandas.DataFrame(data=data, index=data.index, columns=[\"Low\"])\n",
    "highs = pandas.DataFrame(data=data, index=data.index, columns=[\"High\"])\n",
    "\n",
    "low_clusters = get_optimum_clusters(lows)\n",
    "low_centers = low_clusters.cluster_centers_\n",
    "low_centers = numpy.sort(low_centers, axis=0)\n",
    "\n",
    "high_clusters = get_optimum_clusters(highs)\n",
    "high_centers = high_clusters.cluster_centers_\n",
    "high_centers = numpy.sort(high_centers, axis=0)\n",
    "\n",
    "print(data)\n",
    "print(low_centers)\n",
    "print(high_centers)\n",
    "\n",
    "for low in low_centers[:2]:\n",
    "    ax.axhline(low[0], color='yellow', ls='--')\n",
    "\n",
    "for high in high_centers[-1:]:\n",
    "    ax.axhline(high[0], color='orange', ls='--')\n",
    "\n",
    "plt.show()"
   ]
  },
  {
   "cell_type": "code",
   "execution_count": 188,
   "metadata": {},
   "outputs": [
    {
     "data": {
      "text/plain": [
       "292.69"
      ]
     },
     "execution_count": 188,
     "metadata": {},
     "output_type": "execute_result"
    }
   ],
   "source": [
    "# Define support and resistance levels\n",
    "fb_support, fb_resistance = low_centers[0][0], high_centers[4][0]\n",
    "fb_resistance"
   ]
  },
  {
   "cell_type": "markdown",
   "metadata": {},
   "source": [
    "## Google Support and Resistance"
   ]
  },
  {
   "cell_type": "code",
   "execution_count": 147,
   "metadata": {},
   "outputs": [],
   "source": [
    "googl_csv = Path(\"Resources/googl_data.csv\")\n",
    "googl_returns = pd.read_csv(googl_csv, index_col='Date', parse_dates=True)"
   ]
  },
  {
   "cell_type": "code",
   "execution_count": 189,
   "metadata": {},
   "outputs": [],
   "source": [
    "# Use the previous 7 days to find support and resistance levels\n",
    "data = googl_returns.sort_index(ascending=False)\n",
    "data = data.iloc[:7]\n",
    "data[\"Time\"] = [d.timestamp() for d in data.index]\n",
    "data = data.tz_localize('EST')\n",
    "data.Time = data.Time.tz_convert(est)\n",
    "data = data[[\"Time\", \"Open\", \"High\", \"Low\", \"Close\", \"Volume\"]]"
   ]
  },
  {
   "cell_type": "code",
   "execution_count": 190,
   "metadata": {},
   "outputs": [
    {
     "name": "stdout",
     "output_type": "stream",
     "text": [
      "Optimum K is 6\n",
      "Optimum K is 6\n",
      "                                   Time     Open      High       Low    Close  \\\n",
      "Date                                                                            \n",
      "2019-12-31 00:00:00-05:00  1.577750e+09  1335.79  1340.660  1332.130  1338.12   \n",
      "2019-12-30 00:00:00-05:00  1.577664e+09  1356.81  1357.000  1337.835  1340.47   \n",
      "2019-12-27 00:00:00-05:00  1.577405e+09  1364.00  1367.070  1353.000  1354.64   \n",
      "2019-12-26 00:00:00-05:00  1.577318e+09  1346.55  1363.200  1345.510  1362.16   \n",
      "2019-12-24 00:00:00-05:00  1.577146e+09  1350.21  1352.010  1344.165  1344.74   \n",
      "2019-12-23 00:00:00-05:00  1.577059e+09  1358.73  1361.854  1348.000  1350.27   \n",
      "2019-12-20 00:00:00-05:00  1.576800e+09  1363.10  1364.000  1350.730  1351.21   \n",
      "\n",
      "                            Volume  \n",
      "Date                                \n",
      "2019-12-31 00:00:00-05:00   721255  \n",
      "2019-12-30 00:00:00-05:00   827915  \n",
      "2019-12-27 00:00:00-05:00   857102  \n",
      "2019-12-26 00:00:00-05:00   916263  \n",
      "2019-12-24 00:00:00-05:00   597751  \n",
      "2019-12-23 00:00:00-05:00   613879  \n",
      "2019-12-20 00:00:00-05:00  1890018  \n",
      "[[1332.13  ]\n",
      " [1337.835 ]\n",
      " [1344.8375]\n",
      " [1348.    ]\n",
      " [1350.73  ]\n",
      " [1353.    ]]\n",
      "[[1340.66 ]\n",
      " [1352.01 ]\n",
      " [1357.   ]\n",
      " [1361.854]\n",
      " [1363.6  ]\n",
      " [1367.07 ]]\n"
     ]
    },
    {
     "data": {
      "image/png": "[encoded data removed]",
      "text/plain": [
       "<Figure size 432x288 with 2 Axes>"
      ]
     },
     "metadata": {
      "needs_background": "light"
     },
     "output_type": "display_data"
    }
   ],
   "source": [
    "ax = plot_stock_data(data)\n",
    "\n",
    "lod, hod = 0, 0\n",
    "\n",
    "lows = pandas.DataFrame(data=data, index=data.index, columns=[\"Low\"])\n",
    "highs = pandas.DataFrame(data=data, index=data.index, columns=[\"High\"])\n",
    "\n",
    "low_clusters = get_optimum_clusters(lows)\n",
    "low_centers = low_clusters.cluster_centers_\n",
    "low_centers = numpy.sort(low_centers, axis=0)\n",
    "\n",
    "high_clusters = get_optimum_clusters(highs)\n",
    "high_centers = high_clusters.cluster_centers_\n",
    "high_centers = numpy.sort(high_centers, axis=0)\n",
    "\n",
    "print(data)\n",
    "print(low_centers)\n",
    "print(high_centers)\n",
    "\n",
    "for low in low_centers[:2]:\n",
    "    ax.axhline(low[0], color='yellow', ls='--')\n",
    "\n",
    "for high in high_centers[-1:]:\n",
    "    ax.axhline(high[0], color='orange', ls='--')\n",
    "\n",
    "plt.show()"
   ]
  },
  {
   "cell_type": "code",
   "execution_count": 192,
   "metadata": {},
   "outputs": [
    {
     "data": {
      "text/plain": [
       "1367.07"
      ]
     },
     "execution_count": 192,
     "metadata": {},
     "output_type": "execute_result"
    }
   ],
   "source": [
    "# Define support and resistance levels\n",
    "googl_support, googl_resistance = low_centers[0][0], high_centers[5][0]\n",
    "googl_resistance"
   ]
  },
  {
   "cell_type": "markdown",
   "metadata": {},
   "source": [
    "## Netflix Support and Resistance"
   ]
  },
  {
   "cell_type": "code",
   "execution_count": 153,
   "metadata": {},
   "outputs": [],
   "source": [
    "nflx_csv = Path(\"Resources/nflx_data.csv\")\n",
    "nflx_returns = pd.read_csv(nflx_csv, index_col='Date', parse_dates=True)"
   ]
  },
  {
   "cell_type": "code",
   "execution_count": 193,
   "metadata": {},
   "outputs": [],
   "source": [
    "# Use the previous 7 days to find support and resistance levels\n",
    "data = nflx_returns.sort_index(ascending=False)\n",
    "data = data.iloc[:7]\n",
    "data[\"Time\"] = [d.timestamp() for d in data.index]\n",
    "data = data.tz_localize('EST')\n",
    "data.Time = data.Time.tz_convert(est)\n",
    "data = data[[\"Time\", \"Open\", \"High\", \"Low\", \"Close\", \"Volume\"]]"
   ]
  },
  {
   "cell_type": "code",
   "execution_count": 194,
   "metadata": {},
   "outputs": [
    {
     "name": "stdout",
     "output_type": "stream",
     "text": [
      "Optimum K is 6\n",
      "Optimum K is 6\n",
      "                                   Time    Open      High       Low   Close  \\\n",
      "Date                                                                          \n",
      "2019-12-31 00:00:00-05:00  1.577750e+09  322.00  324.9160  321.0900  323.53   \n",
      "2019-12-30 00:00:00-05:00  1.577664e+09  329.08  329.1850  322.8600  323.31   \n",
      "2019-12-27 00:00:00-05:00  1.577405e+09  332.96  333.8200  326.0100  329.09   \n",
      "2019-12-26 00:00:00-05:00  1.577318e+09  334.60  336.4623  332.0100  332.62   \n",
      "2019-12-24 00:00:00-05:00  1.577146e+09  334.01  335.7000  331.6000  333.28   \n",
      "2019-12-23 00:00:00-05:00  1.577059e+09  337.76  337.9500  331.0201  333.10   \n",
      "2019-12-20 00:00:00-05:00  1.576800e+09  335.00  338.0000  330.6000  336.97   \n",
      "\n",
      "                            Volume  \n",
      "Date                                \n",
      "2019-12-31 00:00:00-05:00  3228786  \n",
      "2019-12-30 00:00:00-05:00  3879738  \n",
      "2019-12-27 00:00:00-05:00  4620963  \n",
      "2019-12-26 00:00:00-05:00  3268244  \n",
      "2019-12-24 00:00:00-05:00  1887333  \n",
      "2019-12-23 00:00:00-05:00  4827496  \n",
      "2019-12-20 00:00:00-05:00  8646252  \n",
      "[[321.09  ]\n",
      " [322.86  ]\n",
      " [326.01  ]\n",
      " [330.6   ]\n",
      " [331.0201]\n",
      " [331.805 ]]\n",
      "[[324.916 ]\n",
      " [329.185 ]\n",
      " [333.82  ]\n",
      " [335.7   ]\n",
      " [336.4623]\n",
      " [337.975 ]]\n"
     ]
    },
    {
     "data": {
      "image/png": "[encoded data removed]",
      "text/plain": [
       "<Figure size 432x288 with 2 Axes>"
      ]
     },
     "metadata": {
      "needs_background": "light"
     },
     "output_type": "display_data"
    }
   ],
   "source": [
    "ax = plot_stock_data(data)\n",
    "\n",
    "lod, hod = 0, 0\n",
    "\n",
    "lows = pandas.DataFrame(data=data, index=data.index, columns=[\"Low\"])\n",
    "highs = pandas.DataFrame(data=data, index=data.index, columns=[\"High\"])\n",
    "\n",
    "low_clusters = get_optimum_clusters(lows)\n",
    "low_centers = low_clusters.cluster_centers_\n",
    "low_centers = numpy.sort(low_centers, axis=0)\n",
    "\n",
    "high_clusters = get_optimum_clusters(highs)\n",
    "high_centers = high_clusters.cluster_centers_\n",
    "high_centers = numpy.sort(high_centers, axis=0)\n",
    "\n",
    "print(data)\n",
    "print(low_centers)\n",
    "print(high_centers)\n",
    "\n",
    "for low in low_centers[:2]:\n",
    "    ax.axhline(low[0], color='yellow', ls='--')\n",
    "\n",
    "for high in high_centers[-1:]:\n",
    "    ax.axhline(high[0], color='orange', ls='--')\n",
    "\n",
    "plt.show()"
   ]
  },
  {
   "cell_type": "code",
   "execution_count": 197,
   "metadata": {},
   "outputs": [
    {
     "data": {
      "text/plain": [
       "337.975"
      ]
     },
     "execution_count": 197,
     "metadata": {},
     "output_type": "execute_result"
    }
   ],
   "source": [
    "# Define support and resistance levels\n",
    "nflx_support, nflx_resistance = low_centers[0][0], high_centers[5][0]\n",
    "nflx_resistance"
   ]
  },
  {
   "cell_type": "code",
   "execution_count": 204,
   "metadata": {},
   "outputs": [
    {
     "data": {
      "text/plain": [
       "(1332.13, 1367.07)"
      ]
     },
     "execution_count": 204,
     "metadata": {},
     "output_type": "execute_result"
    }
   ],
   "source": [
    "# List of support/resistance variable\n",
    "aapl_resistance, aapl_support\n",
    "amzn_resistance, amzn_resistance\n",
    "fb_support, fb_resistance\n",
    "googl_support, googl_resistance"
   ]
  },
  {
   "cell_type": "code",
   "execution_count": null,
   "metadata": {},
   "outputs": [],
   "source": []
  }
 ],
 "metadata": {
  "kernelspec": {
   "display_name": "Python 3",
   "language": "python",
   "name": "python3"
  },
  "language_info": {
   "codemirror_mode": {
    "name": "ipython",
    "version": 3
   },
   "file_extension": ".py",
   "mimetype": "text/x-python",
   "name": "python",
   "nbconvert_exporter": "python",
   "pygments_lexer": "ipython3",
   "version": "3.7.3"
  }
 },
 "nbformat": 4,
 "nbformat_minor": 4
}
